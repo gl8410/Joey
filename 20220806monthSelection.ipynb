{
 "cells": [
  {
   "cell_type": "code",
   "execution_count": 76,
   "metadata": {},
   "outputs": [],
   "source": [
    "import datetime\n",
    "from dateutil.relativedelta import relativedelta\n",
    "from dateutil.parser import parse\n",
    "import calendar\n",
    "\n",
    "Enddate=\"2022/8/31\"\n",
    "preDays=465"
   ]
  },
  {
   "cell_type": "code",
   "execution_count": 77,
   "metadata": {},
   "outputs": [
    {
     "name": "stdout",
     "output_type": "stream",
     "text": [
      "Start : 2021-04-28 00:07:05.276060 \n",
      "End : 2022-08-31 00:00:00 \n",
      "[datetime.datetime(2021, 4, 28, 0, 7, 5, 276060), datetime.datetime(2021, 5, 28, 0, 7, 5, 276060), datetime.datetime(2021, 6, 28, 0, 7, 5, 276060), datetime.datetime(2021, 7, 28, 0, 7, 5, 276060), datetime.datetime(2021, 8, 28, 0, 7, 5, 276060), datetime.datetime(2021, 9, 28, 0, 7, 5, 276060), datetime.datetime(2021, 10, 28, 0, 7, 5, 276060), datetime.datetime(2021, 11, 28, 0, 7, 5, 276060), datetime.datetime(2021, 12, 28, 0, 7, 5, 276060), datetime.datetime(2022, 1, 28, 0, 7, 5, 276060), datetime.datetime(2022, 2, 28, 0, 7, 5, 276060), datetime.datetime(2022, 3, 28, 0, 7, 5, 276060), datetime.datetime(2022, 4, 28, 0, 7, 5, 276060), datetime.datetime(2022, 5, 28, 0, 7, 5, 276060), datetime.datetime(2022, 6, 28, 0, 7, 5, 276060), datetime.datetime(2022, 7, 28, 0, 7, 5, 276060), datetime.datetime(2022, 8, 28, 0, 7, 5, 276060)]\n",
      "202104\n",
      "20210430\n",
      "202105\n",
      "20210531\n",
      "202106\n",
      "20210630\n",
      "202107\n",
      "20210731\n",
      "202108\n",
      "20210831\n",
      "202109\n",
      "20210930\n",
      "202110\n",
      "20211031\n",
      "202111\n",
      "20211130\n",
      "202112\n",
      "20211231\n",
      "202201\n",
      "20220131\n",
      "202202\n",
      "20220228\n",
      "202203\n",
      "20220331\n",
      "202204\n",
      "20220430\n",
      "202205\n",
      "20220531\n",
      "202206\n",
      "20220630\n",
      "202207\n",
      "20220731\n",
      "202208\n",
      "20220831\n"
     ]
    }
   ],
   "source": [
    "endT=parse(Enddate)\n",
    "startT=datetime.datetime.now()-relativedelta(days=preDays)\n",
    "print(\"Start : %s \" % startT)\n",
    "print(\"End : %s \" % endT)\n",
    "month=[]\n",
    "curT=startT\n",
    "while curT <= endT:\n",
    "    month.append(curT)\n",
    "    curT=curT+relativedelta(months=+1)\n",
    "print(month)\n",
    "for m in month:\n",
    "    endday=calendar.monthrange(m.year,m.month)[1]\n",
    "    #print(str(m))\n",
    "    #print(endday)\n",
    "    #print(re.search(r'\\d{4}-\\d{2}-\\d{2}',str(m))[0])\n",
    "    monT=str(m.month)\n",
    "    monT=\"0\"+monT if len(monT)==1 else monT\n",
    "    print(str(m.year)+monT)\n",
    "    print(str(m.year)+monT+str(endday))"
   ]
  }
 ],
 "metadata": {
  "kernelspec": {
   "display_name": "Python 3.8.12 ('nlp38')",
   "language": "python",
   "name": "python3"
  },
  "language_info": {
   "codemirror_mode": {
    "name": "ipython",
    "version": 3
   },
   "file_extension": ".py",
   "mimetype": "text/x-python",
   "name": "python",
   "nbconvert_exporter": "python",
   "pygments_lexer": "ipython3",
   "version": "3.8.12"
  },
  "orig_nbformat": 4,
  "vscode": {
   "interpreter": {
    "hash": "765e76f43a37ce9eb132b0887a4ab7cae9f102ea0ca23693217fcaacc4c8cf22"
   }
  }
 },
 "nbformat": 4,
 "nbformat_minor": 2
}
