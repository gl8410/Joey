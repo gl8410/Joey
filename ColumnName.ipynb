{
 "cells": [
  {
   "cell_type": "code",
   "execution_count": 22,
   "metadata": {},
   "outputs": [
    {
     "name": "stdout",
     "output_type": "stream",
     "text": [
      "    name  value1  value2\n",
      "0    A_C       1       8\n",
      "1    B_A       2       7\n",
      "2    C_B       3       6\n",
      "3  D_C_A       4       5\n"
     ]
    }
   ],
   "source": [
    "# Illustration DataFrameConfiguration\n",
    "import pandas as pd\n",
    "import re\n",
    "import math\n",
    "OriginNames=[\"A_C\",\"B_A\",\"C_B\",\"D_C_A\"]\n",
    "Values1=[1,2,3,4]\n",
    "Values2=[8,7,6,5]\n",
    "OriginTable=pd.DataFrame({\"name\":OriginNames,\"value1\":Values1,\"value2\":Values2})\n",
    "print(OriginTable)"
   ]
  },
  {
   "cell_type": "code",
   "execution_count": 23,
   "metadata": {},
   "outputs": [
    {
     "name": "stdout",
     "output_type": "stream",
     "text": [
      "{'A': 'Apple', 'B': 'Banana', 'C': 'Cherry', 'D': 'Durian'}\n",
      "    name  value1  value2                name2\n",
      "0    A_C       1       8         Apple_Cherry\n",
      "1    B_A       2       7         Banana_Apple\n",
      "2    C_B       3       6        Cherry_Banana\n",
      "3  D_C_A       4       5  Durian_Cherry_Apple\n"
     ]
    }
   ],
   "source": [
    "# Get Column Definition Dictionary here\n",
    "TokList=[\"A\",\"B\",\"C\",\"D\"]\n",
    "NameList=[\"Apple\",\"Banana\",\"Cherry\",\"Durian\"]\n",
    "DestDic=dict(zip(TokList,NameList))\n",
    "# DestDic={\n",
    "#     \"A\":\"Apple\",\n",
    "#     \"B\":\"Banana\",\n",
    "#     \"C\":\"Cherry\",\n",
    "#     \"D\":\"Durian\"\n",
    "# }\n",
    "print(DestDic)\n",
    "def ReWriteColumnName(name,dic):\n",
    "    if name == None or re.search(\"_\",name) == None:\n",
    "        return \"\"\n",
    "    out=[]\n",
    "    ns=re.split(\"_\",name)\n",
    "    for n in ns:\n",
    "        out.append(dic[n])\n",
    "    out2=\"\"\n",
    "    for o in out:\n",
    "        out2=out2+\"_\"+o\n",
    "    return out2[1:]\n",
    "OriginTable[\"name2\"]=OriginTable[\"name\"].apply(lambda x:ReWriteColumnName(x,DestDic))\n",
    "print(OriginTable)"
   ]
  },
  {
   "cell_type": "code",
   "execution_count": 24,
   "metadata": {},
   "outputs": [
    {
     "name": "stdout",
     "output_type": "stream",
     "text": [
      "    name  value1  value2                name2  value3  value4\n",
      "0    A_C       1       8         Apple_Cherry       1   512.0\n",
      "1    B_A       2       7         Banana_Apple       4   343.0\n",
      "2    C_B       3       6        Cherry_Banana       9   216.0\n",
      "3  D_C_A       4       5  Durian_Cherry_Apple      16   125.0\n"
     ]
    }
   ],
   "source": [
    "# Make more Value diversity\n",
    "OriginTable[\"value3\"]=OriginTable[\"value1\"].apply(lambda x:x*x)\n",
    "OriginTable[\"value4\"]=OriginTable[\"value2\"].apply(lambda x:math.pow(x,3))\n",
    "print(OriginTable)"
   ]
  },
  {
   "cell_type": "code",
   "execution_count": 26,
   "metadata": {},
   "outputs": [
    {
     "name": "stdout",
     "output_type": "stream",
     "text": [
      "    name  value1  value2                name2  value3  value4      Tag\n",
      "0    A_C       1       8         Apple_Cherry       1   512.0      Man\n",
      "1    B_A       2       7         Banana_Apple       4   343.0  Unknown\n",
      "2    C_B       3       6        Cherry_Banana       9   216.0  Unknown\n",
      "3  D_C_A       4       5  Durian_Cherry_Apple      16   125.0    Woman\n"
     ]
    }
   ],
   "source": [
    "# OriginTable[((OriginTable.value1>2) & (OriginTable.value4<200))][\"Newtag\"]=\"Woman\"\n",
    "# OriginTable[~((OriginTable.value1>2) & (OriginTable.value4<200))][\"Newtag\"]=\"Man\"\n",
    "def MultiCriteriaGeneration(df):\n",
    "    newtag=[]\n",
    "    for ind,row in df.iterrows():\n",
    "        if row[\"value1\"]>2 and row[\"value4\"]<200:\n",
    "            newtag.append(\"Woman\")\n",
    "        elif row[\"value3\"]<9 and row[\"value4\"]>400:\n",
    "            newtag.append(\"Man\")\n",
    "        else:\n",
    "            newtag.append(\"Unknown\")\n",
    "    return newtag\n",
    "OriginTable[\"Tag\"]=MultiCriteriaGeneration(OriginTable)\n",
    "print(OriginTable)"
   ]
  }
 ],
 "metadata": {
  "interpreter": {
   "hash": "034fc6b6caa5e9a7ab8d9c4b891a14ac6e81ec1b11f1c8fe0fc653c4614fae3d"
  },
  "kernelspec": {
   "display_name": "Python 3.9.12 ('tensor38')",
   "language": "python",
   "name": "python3"
  },
  "language_info": {
   "codemirror_mode": {
    "name": "ipython",
    "version": 3
   },
   "file_extension": ".py",
   "mimetype": "text/x-python",
   "name": "python",
   "nbconvert_exporter": "python",
   "pygments_lexer": "ipython3",
   "version": "3.9.12"
  },
  "orig_nbformat": 4
 },
 "nbformat": 4,
 "nbformat_minor": 2
}
